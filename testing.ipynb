{
 "cells": [
  {
   "cell_type": "code",
   "execution_count": 23,
   "metadata": {},
   "outputs": [],
   "source": [
    "import streamlit as st\n",
    "from langchain_community.document_loaders import PyPDFLoader\n",
    "from langchain.text_splitter import RecursiveCharacterTextSplitter\n",
    "import os\n",
    "from langchain_google_genai import GoogleGenerativeAIEmbeddings\n",
    "import google.generativeai as genai\n",
    "from langchain_community.vectorstores import FAISS\n",
    "from langchain_google_genai import ChatGoogleGenerativeAI\n",
    "from langchain_core.prompts import ChatPromptTemplate\n",
    "from dotenv import load_dotenv\n",
    "from langchain.chains import create_retrieval_chain\n",
    "from langchain.chains.combine_documents import create_stuff_documents_chain\n",
    "from langchain_groq import ChatGroq\n",
    "\n"
   ]
  },
  {
   "cell_type": "code",
   "execution_count": 22,
   "metadata": {},
   "outputs": [],
   "source": [
    "load_dotenv()\n",
    "api_key = os.getenv(\"GOOGLE_API_KEY\")\n",
    "groq_api_key=os.getenv(\"GROQ_API_KEY\")\n",
    "genai.configure(api_key=api_key)\n"
   ]
  },
  {
   "cell_type": "code",
   "execution_count": 9,
   "metadata": {},
   "outputs": [
    {
     "name": "stdout",
     "output_type": "stream",
     "text": [
      "10\n"
     ]
    }
   ],
   "source": [
    "file_path=\"Corpus.pdf\"\n",
    "loader=PyPDFLoader(file_path)\n",
    "\n",
    "docs=loader.load()\n",
    "\n",
    "print(len(docs))"
   ]
  },
  {
   "cell_type": "code",
   "execution_count": 24,
   "metadata": {},
   "outputs": [],
   "source": [
    "llm = ChatGroq(model=\"llama3-8b-8192\")\n",
    "embeddings = GoogleGenerativeAIEmbeddings(model=\"models/embedding-001\", google_api_key=api_key)\n"
   ]
  },
  {
   "cell_type": "code",
   "execution_count": 25,
   "metadata": {},
   "outputs": [],
   "source": [
    "text_splitter=RecursiveCharacterTextSplitter(chunk_size=1000, chunk_overlap=200)\n",
    "splits=text_splitter.split_documents(docs)\n",
    "\n",
    "texts = [docs.page_content for docs in splits]\n",
    "vector_store = FAISS.from_texts(texts, embedding=embeddings)\n",
    "retriever=vector_store.as_retriever()"
   ]
  },
  {
   "cell_type": "code",
   "execution_count": 30,
   "metadata": {},
   "outputs": [],
   "source": [
    "system_prompt = (\n",
    "    \"You are an assistant for question-answering tasks. \"\n",
    "    \"Use the following pieces of retrieved context to answer \"\n",
    "    \"the question. If the question is out of the context, reply this statement only \"\n",
    "    \"For this information, contact us directly.\"\n",
    "    \"\\n\\n\"\n",
    "    \"{context}\"\n",
    ")\n",
    "\n",
    "prompt = ChatPromptTemplate.from_messages(\n",
    "    [\n",
    "        (\"system\", system_prompt),\n",
    "        (\"human\", \"{input}\"),\n",
    "    ]\n",
    ")"
   ]
  },
  {
   "cell_type": "code",
   "execution_count": 31,
   "metadata": {},
   "outputs": [],
   "source": [
    "question_answer_chain = create_stuff_documents_chain(llm, prompt)\n",
    "rag_chain = create_retrieval_chain(retriever, question_answer_chain)"
   ]
  },
  {
   "cell_type": "code",
   "execution_count": 32,
   "metadata": {},
   "outputs": [
    {
     "data": {
      "text/plain": [
       "{'input': 'Who is the pm of India?',\n",
       " 'context': [Document(page_content='south\\nof\\nSt.\\nHelena\\nin\\nthe\\ncenter\\nof\\nthe\\nNapa\\nValley.\\nYou\\ncan\\nreach\\nYountville\\nby\\ncar\\nfrom\\nanywhere\\nin\\nthe\\nNorthern\\nCalifornia\\nBay\\nArea\\nin\\nabout\\nan\\nhour,\\nwhile\\ntravelers\\nfrom\\nthe\\nSacramento\\nregion\\nwill\\ntake\\nabout\\n1.5\\nhours.\\nThe\\narea\\nis\\nserved\\nby\\nmultiple\\nairports\\nincluding\\nSFO,\\nOakland,\\nSacramento\\nand\\nSanta\\nRosa.\\nJessup\\nCellars\\nwelcomes\\nyour\\nwell-behaved\\ndogs\\ninside\\nor\\noutside\\nand\\nwe\\nhave\\ngluten\\nfree\\ndog\\ntreats\\navailable\\nas\\nwell\\nas\\nwater\\ndishes.\\nJessup\\nCellars\\nwines\\nare\\ncarefully\\ncrafted\\nwith\\nthe\\nhelp\\nof\\nour\\nrenowned\\nconsulting\\nwinemaker\\nRob\\nLloyd\\nwho\\nfamously\\ncrafted\\nChardonnay\\nfor\\nRombauer,\\nLa\\nCrema\\nand\\nCakebread.\\nNot\\nonly\\nhas\\nRob\\ncreated\\none\\nof\\nthe\\nbest\\nChardonnays\\nin\\nthe\\nNapa\\nValley\\nwith\\nour\\n2022'),\n",
       "  Document(page_content=\"winemakers\\nwith\\nJessup\\noffering\\nour\\n2019\\nCabernet\\nSauvignon\\nfor\\n2024.\\nAs\\nwith\\nmost\\nof\\nour\\nred\\nwines,\\nour\\nwinemakers\\nexercise\\n'The\\nArt\\nof\\nthe\\nBlend'\\nby\\nstarting\\nwith\\n90%\\nNapa\\nValley\\nfruit\\nfrom\\nthe\\nChiles\\nValley\\nAVA\\nin\\nNortheastern\\nNapa\\nCounty,\\nthen\\nblend\\nin\\n5%\\nPetite\\nSirah\\nfrom\\nthe\\nsame\\nAVA,\\n3%\\nMerlot\\nfrom\\nour\\nTruchard\\nVineyard\\nin\\nthe\\nLos\\nCarneros\\nregion,\\nthen\\nfinish\\nit\\nwith\\n2.1%\\nCabernet\\nFranc,\\nwhich\\nis\\nthe\\nparent\\ngrape\\nof\\nboth\\nCabernet\\nSauvignon\\nand\\nMerlot,\\noften\\nused\\nin\\nblended\\nwines.\\nCabernet\\nFranc\\noriginated\\nin\\nthe\\nBordeaux\\nregion\\nof\\nFrance\\nand\\nto\\nhonor\\nthat\\nprovenance,\\nwe\\nage\\nour\\n2019\\nJessup\\nCellars\\nCabernet\\nSauvignon\\nin\\n80%\\nnew\\nFrench\\noak\\nfor\\n22\\nmonths.\\nAlcohol\\ncontent\\nin\\nthis\\nvarietal\\nis\\n14.9%\\nwith\\na\\nPH\\nof\\n3.65.\\nYou\\ncan\\npurchase\\nour\\n2019\\nCab\\nfor\\n$90.\\nThe\\npalate\\nof\\nthe\\nwine\\nmatches\\nthe\\naromatics\\nproviding\\njuicy\\nfruit\\nflavors,\\nrich\\ntannins\\nand\\na\\nlong\\nfinish.\\nThis\\nwine\\ndrinks\\nwell\\nnow\\nhowever\\nwill\\nage\\ngracefully\\nfor\\nthe\\nnext\\n5-8\\nyears.\\nEnjoy\\nthis\\nCabernet\\nSauvignon\\nwith\\na\\nquality\"),\n",
       "  Document(page_content=\"vintage,\\nbut\\nhas\\nalso\\nhelped\\ncurate\\n'The\\nArt\\nof\\nthe\\nBlend'\\nwith\\nour\\nstellar\\nred\\nwines.\\nJessup\\nCellars\\nTeam\\nVOTED\\nMOST\\nFRIENDLY\\n&\\nKNOWLEDGEABLE\\nSTAFF\\n4\\nYEARS\\nIN\\nA\\nROW!\\nOver\\nthe\\npast\\nseveral\\nyears,\\nJessup\\nCellars\\nhas\\nwon\\nnumerous\\nawards\\nincluding\\nCellarPass’\\n‘Friendliest\\n&\\nMost\\nKnowledgeable\\nStaff’\\nthree\\nyears\\nin\\na\\nrow,\\nNapa\\nValley\\nLife\\nmagazine’s\\n‘Best\\nWine\\nClub’\\nand,\\nrecently,\\nYountville’s\\n‘Business\\nof\\nthe\\nYear’.\\nhttps://jessupcellars.com/reviews/\\nRob\\nLloyd\\nConsulting\\nWinemaker\\nBIOGRAPHY\\nHometown:\\nAll\\nof\\nCalifornia\\nFavorite\\nJessup\\nWine\\nPairing:\\nCarneros\\nChardonnay\\nwith\\nfreshly\\ncaught\\nMahi-Mahi\\nAbout:\\nRob’s\\nforay\\ninto\\nwine\\nstarted\\ndirectly\\nafter\\ngraduating\\ncollege\\nwhen\\nhe\\ncame\\nto\\nNapa\\nto\\nwork\\nin\\na\\ntasting\\nroom\\nfor\\nthe\\nsummer\\n–\\nbefore\\ngetting\\na\\n‘real\\njob’.\\nHe\\nbecame\\nfascinated\\nwith\\nwine\\nand\\nthe\\nscience\\nof\\nwinemaking\\nand\\nbegan\\nto\\nlearn\\neverything\\nhe\\ncould\\nabout\\nthe\\nprocess.\\nWhile\\ninterviewing\\nfor\\nthat\\n“real\\njob”,\\nthe\\ninterviewer\\nasked\\nhim\\nwhat\\nhe\\nhad\\nbeen\\ndoing\\nwith\\nhis\\ntime\\nsince\"),\n",
       "  Document(page_content=\"AdHoc:\\nAd\\nHoc\\nis\\nanother\\nrenowned\\nrestaurant\\nin\\nYountville,\\nCalifornia,\\nfounded\\nby\\nThomas\\nKeller.\\nUnlike\\nThe\\nFrench\\nLaundry\\nor\\nBouchon,\\nAd\\nHoc\\noffers\\na\\nmore\\ncasual\\ndining\\nexperience\\nwith\\na\\nfocus\\non\\nfamily-style\\nmeals\\nand\\nis\\nfamous\\nfor\\nits\\nfried\\nchicken\\non\\nMonday\\nevenings\\nwhich\\nis\\nserved\\nas\\npart\\nof\\nthe\\nfixed-price,\\nfamily-style\\ndinner\\nmenu.\\nHowever,\\nit's\\nalways\\na\\ngood\\nidea\\nto\\ncheck\\nAd\\nHoc's\\nwebsite\\nor\\ncall\\nahead\\nto\\nconfirm\\nthe\\nschedule,\\nas\\nrestaurant\\noperations\\nand\\nspecial\\nevents\\nmay\\nvary.\\nRO\\nRestaurant\\nand\\nLounge:\\nFormerly\\nthe\\nRegiis\\nOva\\nCaviar\\n&\\nChampagne\\nLounge\\nhas\\nreopened\\nas\\na\\nwhole\\nnew\\ndining\\nspot\\nin\\nYountville\\nAlongside\\nchef\\nde\\ncuisine\\nJeffery\\nHayashi,\\nkeller\\nhas\\ncreated\\na\\nfresh\\nmenu\\nwith\\na\\nfocus\\non\\nAsian-inspired\\ncuisine,\\nas\\nwell\\nas\\nwine,\\ncocktails\\nand-yes-a\\nlarge\\nselection\\nof\\nChampagne\\nand\\nsparkling.\\nLa\\nCalenda:\\nAlso\\nlocated\\nin\\nYountville,\\nCalifornia,\\nand\\nit's\\nindeed\\na\\nremarkable\\naddition\\nto\\nthe\\nculinary\\nscene\\nin\\nNapa\\nValley.\\nAnother\\nThomas\\nKeller\\ncreation,\\nLa\\nCalenda\\nis\\na\")],\n",
       " 'answer': 'For this information, contact us directly.'}"
      ]
     },
     "execution_count": 32,
     "metadata": {},
     "output_type": "execute_result"
    }
   ],
   "source": [
    "\n",
    "results = rag_chain.invoke({\"input\": \"Who is the pm of India?\"})\n",
    "results"
   ]
  },
  {
   "cell_type": "code",
   "execution_count": null,
   "metadata": {},
   "outputs": [],
   "source": []
  }
 ],
 "metadata": {
  "kernelspec": {
   "display_name": "myenv",
   "language": "python",
   "name": "python3"
  },
  "language_info": {
   "codemirror_mode": {
    "name": "ipython",
    "version": 3
   },
   "file_extension": ".py",
   "mimetype": "text/x-python",
   "name": "python",
   "nbconvert_exporter": "python",
   "pygments_lexer": "ipython3",
   "version": "3.12.4"
  }
 },
 "nbformat": 4,
 "nbformat_minor": 2
}
